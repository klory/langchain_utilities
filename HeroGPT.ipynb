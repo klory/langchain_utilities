{
 "cells": [
  {
   "cell_type": "code",
   "execution_count": 63,
   "id": "e670b1e1",
   "metadata": {},
   "outputs": [],
   "source": [
    "openai_api_key=<your_api_key"
   ]
  },
  {
   "cell_type": "code",
   "execution_count": 64,
   "id": "c3f720a1",
   "metadata": {},
   "outputs": [],
   "source": [
    "from langchain.llms import OpenAI\n",
    "from langchain import PromptTemplate\n",
    "from langchain.document_loaders import TextLoader\n",
    "from langchain.text_splitter import RecursiveCharacterTextSplitter\n",
    "from langchain.vectorstores import FAISS\n",
    "from langchain.embeddings import OpenAIEmbeddings\n",
    "llm = OpenAI(model_name=\"text-davinci-003\", temperature=0, openai_api_key=openai_api_key)"
   ]
  },
  {
   "cell_type": "code",
   "execution_count": 65,
   "id": "3ced1b9b",
   "metadata": {},
   "outputs": [],
   "source": [
    "import requests\n",
    "\n",
    "from bs4 import BeautifulSoup"
   ]
  },
  {
   "cell_type": "code",
   "execution_count": 66,
   "id": "3f0a9997",
   "metadata": {},
   "outputs": [],
   "source": [
    "def save_webpage_to_txt(url, filename):\n",
    "    response = requests.get(url)\n",
    "    soup = BeautifulSoup(response.text, 'html.parser')\n",
    "\n",
    "    with open(filename, 'w', encoding='utf-8') as f_out:\n",
    "        f_out.write(soup.get_text())"
   ]
  },
  {
   "cell_type": "code",
   "execution_count": 72,
   "id": "e4836ccb",
   "metadata": {},
   "outputs": [],
   "source": [
    "\n",
    "\n",
    "with open('julian_landingpage.txt', 'r') as file:\n",
    "    text = file.read()\n"
   ]
  },
  {
   "cell_type": "code",
   "execution_count": 73,
   "id": "e972c588",
   "metadata": {},
   "outputs": [
    {
     "name": "stdout",
     "output_type": "stream",
     "text": [
      "There are 4206 tokens in your file\n"
     ]
    }
   ],
   "source": [
    "num_tokens = llm.get_num_tokens(text)\n",
    "\n",
    "print (f\"There are {num_tokens} tokens in your file\")"
   ]
  },
  {
   "cell_type": "code",
   "execution_count": 74,
   "id": "03b70010",
   "metadata": {},
   "outputs": [
    {
     "name": "stdout",
     "output_type": "stream",
     "text": [
      "You now have 8 docs intead of 1 piece of text\n"
     ]
    }
   ],
   "source": [
    "text_splitter = RecursiveCharacterTextSplitter(chunk_size=2500, chunk_overlap=20)\n",
    "docs = text_splitter.create_documents([text])\n",
    "\n",
    "print (f\"You now have {len(docs)} docs intead of 1 piece of text\")\n",
    "chain = load_summarize_chain(llm=llm, chain_type='map_reduce')\n",
    "output = chain.run(docs)"
   ]
  },
  {
   "cell_type": "code",
   "execution_count": 75,
   "id": "e4701601",
   "metadata": {},
   "outputs": [],
   "source": [
    "template = \"\"\"\n",
    "\n",
    "This \n",
    "{content} is extracted from a web page which speaks about the best landing page design\n",
    "I want you to analyze this page and come up with your own analysis and understanding of the best hero header message that someone can come up with for their business\n",
    "with this context and learning you will accept three inputs from the user \n",
    "1. company name \n",
    "2. it's competitors\n",
    "3. an elevator pitch\n",
    "given these three inputs and your knowledge about coming up with the best hero header message based on the above analysis \n",
    "share 3 names from urine which could be used as the best hero message by the user for their new business which will have a high potential of attracting the more number of users, a higher conversion rate and a low dropoff rate\n",
    "\n",
    "\n",
    "Company Name = {company}\n",
    "Competitors = {competitors}\n",
    "One Line Explanation = {elevator_pitch}\n",
    "\n",
    "\"\"\""
   ]
  },
  {
   "cell_type": "code",
   "execution_count": 76,
   "id": "72ac7294",
   "metadata": {},
   "outputs": [
    {
     "name": "stdout",
     "output_type": "stream",
     "text": [
      "\n",
      "1. \"Unlock the Power of Data Science with Lyzr\"\n",
      "2. \"Discover Insights Faster with Lyzr\"\n",
      "3. \"Transform Your Data with Lyzr - The No-Code DIY Data Science Platform\"\n"
     ]
    }
   ],
   "source": [
    "prompt = PromptTemplate(\n",
    "    input_variables=[\"content\",\"company\",\"competitors\",\"elevator_pitch\"],\n",
    "    template=template,\n",
    ")\n",
    "\n",
    "final_prompt = prompt.format(content=output, company='Lyzr',competitors='PowerBI, Tableau, Microsoft Excel',elevator_pitch='Lyzr is worlds first no-code DIY data science analytics platform built for business and functional teams to run powerful statistical analysis models on their data and understand their business better')\n",
    "output_message = llm(final_prompt)\n",
    "print(output_message)"
   ]
  },
  {
   "cell_type": "code",
   "execution_count": null,
   "id": "53871f3e",
   "metadata": {},
   "outputs": [],
   "source": []
  }
 ],
 "metadata": {
  "kernelspec": {
   "display_name": "Python 3 (ipykernel)",
   "language": "python",
   "name": "python3"
  },
  "language_info": {
   "codemirror_mode": {
    "name": "ipython",
    "version": 3
   },
   "file_extension": ".py",
   "mimetype": "text/x-python",
   "name": "python",
   "nbconvert_exporter": "python",
   "pygments_lexer": "ipython3",
   "version": "3.10.9"
  }
 },
 "nbformat": 4,
 "nbformat_minor": 5
}
